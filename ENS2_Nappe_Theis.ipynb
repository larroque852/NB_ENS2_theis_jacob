{
 "cells": [
  {
   "cell_type": "markdown",
   "metadata": {},
   "source": [
    "<figure>\n",
    "  <IMG SRC=\"LogoENSEGID.png\" WIDTH=125 ALIGN=\"right\">\n",
    "</figure>\n",
    "\n",
    "# ESSAIS DE NAPPE - RESOLUTION DU PROBLEME INVERSE - METHODE DE THEIS\n",
    "\n",
    "# Solutions applicables en nappe captive d'extension infinie"
   ]
  },
  {
   "cell_type": "markdown",
   "metadata": {},
   "source": [
    "*Préambule: une partie de cours est issue et modifiée du cours \"Transient Groundwater Flow Short Course (Module 3 at UNESCO-IHE, Delft, Netherlands)\" construit par Theo Olsthoorn, 08-Jan-2018 et du \"Guide des essais de pompage et leurs interprétations\" par R.P. Chapuis, 2007*\n",
    "\n",
    "Les essais de nappe sont réalisés pour obtenir les propriétés hydrodynamiques (transmissivité et coefficient d'emmagasinnement) de l'aquifère. Cette détermination est basée sur l'exploitation des données obtenues lors de la réalisation d'un pompage d'essai sur le site de caractérisation. Cette approche constitue la résolution du problème inverse en hydrogéologie.\n",
    "\n",
    "La réalisation de ce type de test nécessite a minima d'enregistrer sur un ou plusieurs ouvrages (cf. vidéo ci-après):\n",
    "- le rabattement au cours du temps (la différence entre la hauteur piézométrique au repos dans l'ouvrage et la durant le pompage)  aux piézomètres d'observation;\n",
    "- le débit d'exploitation au puits de pompage.\n",
    "\n",
    "L'interprétation de l'essai de nappe en nappe captive est basée sur l'exploitation de la solution de Theis à l'équation de diffusivité. L'utilisation a minima d'un piézomètre d'observation peut être complétée par d'autres piézomètres afin de compléter l'estimation des paramètres de l'aquifère et avoir une idée notamment de son hétérogénéïté.\n",
    "\n",
    "A la fin de la partie de terrain, on doit disposer du jeu de données suivant:\n",
    "- valeur du débit (supposé constant) au puits de pompage;\n",
    "- valeur du rabattement au cours du temps $ s = f(t)$ à la distance $r$ du piézomètre et éventuellement aux autres piézomètres d'observation.\n",
    "\n",
    "A l'issue de l'interprétation du test, on obtient les paramètres hydrodynamiques de l'aquifère (transmissivité T et coefficient d'emmagasinnement S) et éventuellement des renseignements complémentaires sur les conditions de gisement de la nappe (effets de limite, drainance,...)."
   ]
  },
  {
   "cell_type": "code",
   "execution_count": null,
   "metadata": {
    "scrolled": true
   },
   "outputs": [],
   "source": [
    "from IPython.lib.display import YouTubeVideo\n",
    "YouTubeVideo('0rRd_DqilwI')"
   ]
  },
  {
   "cell_type": "markdown",
   "metadata": {},
   "source": [
    "# Solution de Theis: interprétation graphique standard"
   ]
  },
  {
   "cell_type": "markdown",
   "metadata": {},
   "source": [
    "## Résolution graphique - Principe général\n",
    "Petit rappel pour la solution de Theis (1) pour un aquifère de transmissivité $T$, de coefficient d'emmagasinement $S$ et soumis à un pompage constant au débit $Q$:\n",
    "\n",
    "$$\n",
    "    s = \\frac{Q}{4 \\pi T} W(u)\n",
    "$$\n",
    "\n",
    "avec (2) pour une observation à $t$ à la distance $r$ du puits de pompage:\n",
    "\n",
    "$$\n",
    "u = \\frac{r^2S}{4Tt}\n",
    "$$\n",
    "\n",
    "La solution de Theis (1) peut être ecrite (3):\n",
    "$$\n",
    "    s = \\frac{QW(u)}{4 \\pi T} \n",
    "$$\n",
    "\n",
    "Soit en logarithmes décimaux (4):\n",
    "$$\n",
    "log \\ s = log \\ (Q/4\\pi T) + log \\ W(u)\n",
    "$$\n",
    "\n",
    "L'équation (2) peut également être réécrite (5):\n",
    "$$\n",
    "r^2/t = 4uT/S\n",
    "$$\n",
    "\n",
    "et en logarithmes décimaux (6)\n",
    "$$\n",
    "log \\ (r^2/t) = log \\ (4T/S) + log \\ u\n",
    "$$\n",
    "\n",
    "La méthode classique d'interprétation graphique de Theis est basée sur l'exploitation de la courbe théorique de Theis reportée sur un papier bi-log. Les axes du graphique retenus pour la fonction de Theis sont les couples  $log \\ W(u)$ versus $log \\ (1/u)$ ou $log \\ W(u)$ versus $log \\ (u)$. Le choix de $1/u$ au lieu de $u$ permet d'obtenir une courbe de Theis d'allure plus intuitive et directement comparable à la courbe expérimentale $s = f(t)$ obtenue lors de l'essai de nappe sur le terrain puisque le rabattement croît proportionnellement à l'augmentation du temps $t$ de pompage.\n",
    "\n",
    "Les données expérimentales de l'essai de pompage sont tracées sur un papier bilog avec comme choix des axes $log \\ (s)$ versus $log \\ (r^2/t)$ ou $log \\ (s)$ versus $log \\ (t/r^2)$.\n",
    "\n",
    "**------------  Apparté  -------------**\n",
    "\n",
    "Propriétés du $ log $\n",
    "$$\n",
    "log(A \\times B / C) = log \\ (A) + log / (B) - log \\ (C)\n",
    "$$\n",
    "Sur un graphique log-log, la courbe $log(A)$ est identique à la courbe $log(A*B/C)$ avec un décalage de $log(B)-log(C)$  \n",
    "Le décalage entre les deux courbes peut etre déterminé graphiquement en superposant visuellement les 2 courbes dans leurs repères de coordonnées respectifs (*Curve matching*). Le décalage peut être quantifié en utilisant un point (*Match point*) et ses jeux de coordonnées dans les deux systèmes de coordonnées respectifs.\n",
    "\n",
    "**------------    fin    -------------**\n",
    "\n",
    "Puisque $1/u$ est proportionnel à $t/r^2$, toutes les données qui ont le même $t/r^2$ vont s'aligner graphiquemebt sur le même $1/u$. Ainsi, pour un même test dans un aquifère homogène, tous les piézomètres s'aligneront sur la même courbe.\n",
    "\n",
    "L'axe de la courbe de Theis et la courbe expérimentale sont différents d'un facteur constant, les données et $1/u$ peuvent être appariés par un décalage horizontal sur la représentation log. De plus, les valeurs de rabattement et la fonction de Theis sont également différents d'un facteur constant, donc les données et la courbe type peuvent être appariés par un déphasage vertical lorsqu'on utilise une échelle log pour la représentation graphique.\n",
    "\n",
    "En résumé, cel implique que sur un graphique log-log, les données et la courbe type de Theis ont la même forme et peuvent être décalées horizontalement et verticalement pour qu'elles soient superposées. Les déphasages vertical et horizontal permettent de déterminer les deux facteurs qui permettent la détermination de la transmissivité T et du coefficient d'emmagasinement S: c'est la méthode graphique historique de Theis (cf. figure ci-après - Chapuis, 2007).\n",
    "\n",
    "<figure>\n",
    "  <IMG SRC=\"theis_graph.png\" WIDTH=650 ALIGN=\"center\">\n",
    "</figure>\n"
   ]
  },
  {
   "cell_type": "code",
   "execution_count": null,
   "metadata": {},
   "outputs": [],
   "source": [
    "# Illustration\n",
    "# Representation graphique de la fonction de Theis\n",
    "\n",
    "import numpy as np\n",
    "import scipy.special as sp\n",
    "import matplotlib.pyplot as plt\n",
    "\n",
    "\n",
    "\n",
    "# calcul de u avec echantillonnage log10\n",
    "u = np.logspace(-5, 1, 61)\n",
    "\n",
    "# paramétrage de la figure W(u) = f(1/u)\n",
    "plt.title('Courbe type de Theis')\n",
    "plt.xlabel('1/u')\n",
    "plt.ylabel('W(u)')\n",
    "plt.xscale('log')\n",
    "plt.yscale('log')\n",
    "plt.grid()\n",
    "\n",
    "plt.plot(1/u, sp.exp1(u),label='W(u) versus 1/u') # plot well function versus 1/u\n",
    "plt.plot(u, sp.exp1(u),label='W(u) versus u') # plot well function versus u\n",
    "plt.legend(loc='best')\n",
    "\n",
    "plt.show()"
   ]
  },
  {
   "cell_type": "markdown",
   "metadata": {},
   "source": [
    "# Solution de Theis: interprétation par ajustement numérique"
   ]
  },
  {
   "cell_type": "markdown",
   "metadata": {},
   "source": [
    "## Ajustement d'un modèle par minimisation fonction objectif\n",
    "\n",
    "L'ajustement d'un modèle est un problème d'optimisation qui permet à partir d'une fonction paramètrique connue (*le modèle*) de déterminer ses paramètres afin de restituer au mieux un jeu de données (*observations*).\n",
    "On peut représenter cette méthode simplement en 2 dimensions, avec un domaine défini par des *entrées* et des *sorties*. Les abscisses sont les données indépendanes d'entrée de la fonction modèle. Les ordonnées représentent les données dépendantes de sortie de la fonction modèle.\n",
    "On a collecté des données expérimentales/mesurées d'entrée/sortie d'un système que l'on suspece fonctionner selon le modèle pré-identifié.\n",
    "L'ajustement d'un modèle consiste à choisir un type de modèle, puis estimer les paramètres adaptés de manière à restituer au mieux les valeurs observées.\n",
    "\n",
    "Le package SciPy dans sa librairie d'optimisation '*optimize*' procure une fonction *Curve_fit* qui permet l'ajustement d'un modèle défini par une fonction paramétrique quelconque à des données expérimentales ou mesurées, et d'estimer les paramètres optimaux minimisant l'écart entre valeurs modélisées et valeurs mesurées.\n",
    "\n",
    "La procédure est la suivante:\n",
    "- mise en forme des données expérimentales/observées en identifiant variables dépendantes et indépendantes\n",
    "- identification du modèle théorique susceptible de resituer le comportement des données expérimentale/observées\n",
    "- programmation d'une fonction '*modèle*' comprenant les paramètres à ajuster\n",
    "- estimation des paramètres optimums\n",
    "- évaluation de la qualité de l'ajustement et des incertitudes associées (non abordé ici)\n"
   ]
  },
  {
   "cell_type": "markdown",
   "metadata": {},
   "source": [
    "## Application 1: tutorial ajustement d'un modèle à des données observées\n",
    "\n",
    "Cet exercice est directement adapté du tutorial \"*Curve fitting with Python*\" disponible à l'adresse suivante:\n",
    "\n",
    "https://machinelearningmastery.com/curve-fitting-with-python/\n",
    "\n",
    "L'objectif est de se familiariser avec les commandes principales permettant de résoudre ce type de problématique.\n",
    "\n",
    "Les différents points sont abordés:\n",
    "- chargement et représentation graphique des données observées\n",
    "- choix d'un modèle linéaire et ajustement des paramètres optimums\n",
    "- choix d'un modèle polynomial et ajustement des paramètres optimums"
   ]
  },
  {
   "cell_type": "code",
   "execution_count": null,
   "metadata": {
    "scrolled": true
   },
   "outputs": [],
   "source": [
    "#---------------------------------------------------------------------\n",
    "# chargement et représentation graphique des données observées\n",
    "#---------------------------------------------------------------------\n",
    "\n",
    "# plot \"Population\" vs \"Employed\"\n",
    "from pandas import read_csv\n",
    "from matplotlib import pyplot\n",
    "# load the dataset\n",
    "data = np.genfromtxt('data_tuto.csv',delimiter=',')\n",
    "# choose the input and output variables\n",
    "x, y = data[:, 1], data[:, 2]\n",
    "# plot input vs output\n",
    "pyplot.scatter(x, y)\n",
    "plt.xlabel('variable independante input x')\n",
    "plt.ylabel('variable dépendante output y')\n",
    "pyplot.show()\n",
    "\n"
   ]
  },
  {
   "cell_type": "code",
   "execution_count": null,
   "metadata": {},
   "outputs": [],
   "source": [
    "#---------------------------------------------------------------------\n",
    "# identification du modèle théorique susceptible de restituer le comportement des données expérimentale/observées\n",
    "# modèle LINEAIRE\n",
    "#---------------------------------------------------------------------\n",
    "\n",
    "# define the true objective function (\"modèle\")\n",
    "def objective(x, a, b):\n",
    "\treturn a * x + b\n",
    "\n",
    "# curve fit\n",
    "popt, _ = curve_fit(objective, x, y)\n",
    "# summarize the parameter values\n",
    "a, b = popt\n",
    "print('y = %.5f * x + %.5f' % (a, b))\n",
    "# plot input vs output\n",
    "pyplot.scatter(x, y)\n",
    "# define a sequence of inputs between the smallest and largest known inputs\n",
    "x_line = np.arange(min(x), max(x), 1)\n",
    "# calculate the output for the range\n",
    "y_line = objective(x_line, a, b)\n",
    "# create a line plot for the mapping function\n",
    "pyplot.plot(x_line, y_line, '--', color='red')\n",
    "pyplot.show()"
   ]
  },
  {
   "cell_type": "code",
   "execution_count": null,
   "metadata": {},
   "outputs": [],
   "source": [
    "#---------------------------------------------------------------------\n",
    "# identification du modèle théorique susceptible de restituer le comportement des données expérimentale/observées\n",
    "# modèle POLYNOMIAL\n",
    "#---------------------------------------------------------------------\n",
    "\n",
    "# define the true objective function (\"modèle\")\n",
    "def objective(x, a, b, c):\n",
    "\treturn a * x + b * x**2 + c\n",
    "\n",
    "# curve fit\n",
    "popt, _ = curve_fit(objective, x, y)\n",
    "# summarize the parameter values\n",
    "a, b, c = popt\n",
    "print('y = %.5f * x + %.5f * x^2 + %.5f' % (a, b, c))\n",
    "# plot input vs output\n",
    "pyplot.scatter(x, y)\n",
    "# define a sequence of inputs between the smallest and largest known inputs\n",
    "x_line = np.arange(min(x), max(x), 1)\n",
    "# calculate the output for the range\n",
    "y_line = objective(x_line, a, b, c)\n",
    "# create a line plot for the mapping function\n",
    "pyplot.plot(x_line, y_line, '--', color='red')\n",
    "pyplot.show()\n",
    "\n"
   ]
  },
  {
   "cell_type": "markdown",
   "metadata": {},
   "source": [
    "## Application 1: essai de nappe\n",
    "\n",
    "Pour caractériser les propriétés hydrodynamiques d'un aquifère, un essai de nappe est réalisé. Un puits $F$ est pompé au débit de 547 litre/minute durant 12 heures. Les profondeurs sont enregistrés à un piézomètre $P_a$ situé à 8.2 mètres de $F$ (fichier TD_Theis1.csv: colonne 1 t en minute, colonne 2 profondeur eau m/repère). Le niveau statique de la nappe est $N_{stat} = -5.32$ mètre/repère.\n",
    "1. Construire le graphique expérimental\tlog(s) = log10(t);\n",
    "2. A l'aide de la solution de Theis, déterminer les paramètres hydrodynamiques de l'aquifère (T et S)."
   ]
  },
  {
   "cell_type": "code",
   "execution_count": 1,
   "metadata": {},
   "outputs": [
    {
     "data": {
      "image/png": "[encoded data removed]",
      "text/plain": [
       "<Figure size 432x288 with 1 Axes>"
      ]
     },
     "metadata": {
      "needs_background": "light"
     },
     "output_type": "display_data"
    }
   ],
   "source": [
    "import numpy as np\n",
    "from scipy.special import exp1 # this is Theis's well function (exponential integral)\n",
    "import matplotlib.pyplot as plt\n",
    "from scipy.optimize import curve_fit\n",
    "from sklearn.metrics import r2_score\n",
    "\n",
    "#REPRESENTATION GRAPHIQUE DES DONNEES\n",
    "\n",
    "#lecture fichier local\n",
    "#data = np.genfromtxt('TD_Theis2.csv',delimiter=',')\n",
    "#t en min - profondeur eau m/rep\n",
    "\n",
    "#lecture fichier Github pour Colabotary on line\n",
    "data = np.genfromtxt('https://raw.githubusercontent.com/larroque852/NB_ENS2_theis_jacob/main/TD_Theis2.csv',delimiter=',')\n",
    "#t en min - profondeur eau m/rep\n",
    "\n",
    "t=data[:,0] #Attention: par défaut l'unité est la minute\n",
    "s=data[:,1]-5.32 # calcul du rabattement s = prof(t) - prof(t=0)\n",
    "\n",
    "# parametrage figure\n",
    "plt.title('Essai de nappe - Piézomètre')\n",
    "plt.xlabel('Temps (minute)')\n",
    "plt.ylabel('Rabattement (m)')\n",
    "plt.xscale('log')\n",
    "plt.yscale('log')\n",
    "plt.grid()\n",
    "plt.plot(t, s, '.', color = 'blue') # \n",
    "plt.show()"
   ]
  },
  {
   "cell_type": "code",
   "execution_count": 2,
   "metadata": {},
   "outputs": [
    {
     "data": {
      "image/png": "[encoded data removed]",
      "text/plain": [
       "<Figure size 432x288 with 1 Axes>"
      ]
     },
     "metadata": {
      "needs_background": "light"
     },
     "output_type": "display_data"
    },
    {
     "name": "stdout",
     "output_type": "stream",
     "text": [
      "Resultats ajustement:\n",
      "T = 1.1e-01 m2/min\n",
      "S = 1.7e-04 (-)\n"
     ]
    }
   ],
   "source": [
    "from scipy.optimize import curve_fit\n",
    "\n",
    "#conditions de l'essai\n",
    "\n",
    "Q = 0.547 # débit (m3/min )\n",
    "r = 8.2 # distance piézomètre/puits (m)\n",
    "\n",
    "# définition du modèle de Theis\n",
    "def theis(t, T, S):\n",
    "    sT = Q / (4 * np.pi * T) * exp1(( r ** 2 * S)/(4 * T * t))\n",
    "    return sT\n",
    "\n",
    "#Ajustement du modèle de Theis\n",
    "\n",
    "#valeurs initiales des paramètres (nécessaire pour initier l'ajustement)\n",
    "#T = 100 #m2/min\n",
    "#S = 0.01#(--)\n",
    "\n",
    "best_vals, covar= curve_fit(theis, t, s)\n",
    "sT2 = theis(t,best_vals[0],best_vals[1])\n",
    "# parametrage figure\n",
    "plt.title('Essai de nappe - Piézomètre')\n",
    "plt.xlabel('Temps (minute)')\n",
    "plt.ylabel('Rabattement (m)')\n",
    "plt.xscale('log')\n",
    "plt.yscale('log')\n",
    "plt.grid()\n",
    "plt.plot(t, s, '.', color = 'blue', label='valeurs mesurées') # \n",
    "plt.plot(t,theis(t,best_vals[0],best_vals[1]), color ='red',label='solution de Theis' )\n",
    "plt.legend()\n",
    "plt.show()\n",
    "\n",
    "Tok = best_vals[0]\n",
    "Sok = best_vals[1]\n",
    "print('Resultats ajustement:')\n",
    "print('T = {:.1e} m2/min'.format(Tok))\n",
    "print('S = {:.1e} (-)'.format(Sok))\n",
    "\n",
    "\n",
    "#print('R^2: ', r2_score(s,sT2))"
   ]
  },
  {
   "cell_type": "markdown",
   "metadata": {},
   "source": [
    "## Application 2: test de ‘Oude Korendijk, south of Rotterdam, The Netherlands' (In *Kruseman & de Ridder*)\n",
    "La description du test est tirée de Kruseman & de Ridder pp. 56:\n",
    "\n",
    "The lithological cross-section (figure) of the test site is derived from the borings. The first 18 m below the surface, consisting of clay, peat, and clayey fine sand, form the impermeable confining layer. Between 18 and 25 m below the surface lies the aquifer, which consists of coarse sand with some gravel. The base of the aquifer is formed by fine sandy and clayey sediments, which are considered impermeable.\n",
    "<figure>\n",
    "  <IMG SRC=\"cross_section.png\" WIDTH=750 ALIGN=\"center\">\n",
    "</figure>\n",
    "The well screen was installed over the whole thickness of the aquifer, and piezometers were placed at distances of 0.8, 30, 90, and 215 m from the well, and at different depths. The two piezometers at a depth of 30 m, H30, and H215 showed a drawdown during pumping, from which it could be concluded that the clay layer between 25 and 27 m is not completely impermeable. For our purposes, however, we shall assume that all the water was derived from the aquifer between 18 and 25 m, and that the base is impermeable. The well was pumped at a constant discharge of 9.12 L/s (or 788 m3/d) for nearly 14 hours.\n",
    "    \n",
    "1. Construire le graphique expérimental\tlog(s) = log10(t) pour les 3 piézomètres H30, H90 et H215;\n",
    "2. A l'aide de la solution de Theis, déterminer les paramètres hydrodynamiques de l'aquifère (T et S) à partir des données de H30 et H90.\n",
    "3. Quelles informations complémentaires peuvent apporter les données issues de H215? Cela vous semble t-il cohérent avec la coupe géologique?"
   ]
  },
  {
   "cell_type": "code",
   "execution_count": 3,
   "metadata": {},
   "outputs": [
    {
     "data": {
      "image/png": "[encoded data removed]",
      "text/plain": [
       "<Figure size 432x288 with 1 Axes>"
      ]
     },
     "metadata": {
      "needs_background": "light"
     },
     "output_type": "display_data"
    },
    {
     "data": {
      "image/png": "[encoded data removed]",
      "text/plain": [
       "<Figure size 432x288 with 1 Axes>"
      ]
     },
     "metadata": {
      "needs_background": "light"
     },
     "output_type": "display_data"
    }
   ],
   "source": [
    "#1. Construire le graphique expérimental\tlog(s) = log10(t) pour les 3 piézomètres H30, H90 et H215;\n",
    "import numpy as np\n",
    "import scipy.special as sp\n",
    "import matplotlib.pyplot as plt\n",
    "\n",
    "#lecture fichier local\n",
    "#data = np.genfromtxt('Korendijk_data.csv',delimiter=',')\n",
    "\n",
    "#lecture fichier Github pour Colabotary on line\n",
    "data = np.genfromtxt('https://raw.githubusercontent.com/larroque852/NB_ENS2_theis_jacob/main/Korendijk_data.csv',delimiter=',')\n",
    "\n",
    "# affichage des données (juste 1ere ligne 4 colonnes first 4 lines)\n",
    "# Les colonnes sont [r[m], z[Korendijk_datam], t[minutes], s[m]] (cf. fichier initial .csv)\n",
    "#data[:4] \n",
    "#print(data[0])\n",
    "\n",
    "# Le nombre de valeurs uniques de la première colonne définissent également le nombre de piézomètres dont nous disposons\n",
    "distances = np.unique(data[:, 0])\n",
    "#print(distances)\n",
    "\n",
    "# parametrage de la figure s = f(t) [min]\n",
    "plt.title('Korendjik data')\n",
    "plt.ylabel('Rabattement [m]')\n",
    "plt.xlabel('$t$ [min]')\n",
    "plt.xscale('log')\n",
    "plt.yscale('log')\n",
    "plt.grid()\n",
    "\n",
    "# plot the data pour chaque piezometre avec fonction boucle\n",
    "for r in distances:\n",
    "    I = data[:, 0] == r # creation d'un index\n",
    "    # selection des temps pour chaque piezometre\n",
    "    t = data[I,2] # [min]\n",
    "    plt.plot(t, data[I,3], '.',\n",
    "             label='$r$= {:.1f} m'.format(r)) \n",
    "plt.legend()\n",
    "plt.show()\n",
    "    \n",
    "# parametrage de la figure s = f(t/r^2 [min/m2])\n",
    "plt.title('Korendjik data - graphique normalisé')\n",
    "plt.ylabel('Rabattement [m]')\n",
    "plt.xlabel('$t/r^2$ [min/m2]')\n",
    "plt.xscale('log')\n",
    "plt.yscale('log')\n",
    "plt.grid()\n",
    "\n",
    "# plot the data pour chaque piezometre avec fonction boucle\n",
    "for r in distances:\n",
    "    I = data[:, 0] == r # creation d'un index\n",
    "    # selection des temps pour chaque piezometre\n",
    "    t = data[I,2] # [min]\n",
    "    plt.plot(t / r**2, data[I,3], '.',\n",
    "             label='$t/r^2$ - {:.1f} m'.format(r)) \n",
    "plt.legend()\n",
    "plt.show()"
   ]
  },
  {
   "cell_type": "code",
   "execution_count": 4,
   "metadata": {},
   "outputs": [
    {
     "data": {
      "image/png": "[encoded data removed]",
      "text/plain": [
       "<Figure size 432x288 with 1 Axes>"
      ]
     },
     "metadata": {
      "needs_background": "light"
     },
     "output_type": "display_data"
    },
    {
     "name": "stdout",
     "output_type": "stream",
     "text": [
      "Resultats ajustement:\n",
      "T = 3.3e-01 m2/min\n",
      "S = 1.1e-04 (-)\n",
      "A comparer avec les valeurs trouvées in Kruseman and de Ridder: T=392 m2/jour et S = 1.6 x 10-4\n"
     ]
    }
   ],
   "source": [
    "# interpretation au piezometre r = 30m\n",
    "import numpy as np\n",
    "import scipy.special as sp\n",
    "import matplotlib.pyplot as plt\n",
    "from scipy.optimize import curve_fit\n",
    "\n",
    "#lecture fichier local\n",
    "data = np.genfromtxt('Korendijk_data.csv',delimiter=',')\n",
    "\n",
    "#lecture fichier Github pour Colabotary on line\n",
    "#data = np.genfromtxt('https://raw.githubusercontent.com/larroque852/NB_ENS2_theis_jacob/main/Korendijk_data.csv',delimiter=',')\n",
    "\n",
    "#conditions de l'essai\n",
    "Q = 788/24/60 # débit (m3/min )\n",
    "\n",
    "# définition du modèle de Theis\n",
    "def theis(t, T, S):\n",
    "    sT = Q / (4 * np.pi * T) * sp.exp1(( r ** 2 * S)/(4 * T * t))\n",
    "    return sT\n",
    "\n",
    "r = 30 # distance piézomètre/puits (m)\n",
    "I = data[:, 0] == r # creation d'un index\n",
    "t30 = data[I,2] # [min]\n",
    "s30 = data[I,3]\n",
    "\n",
    "best_vals, covar= curve_fit(theis, t30, s30)\n",
    "\n",
    "# parametrage figure\n",
    "plt.title('Essai de nappe - Piézomètre')\n",
    "plt.xlabel('Temps (jour)')\n",
    "plt.ylabel('Rabattement (m)')\n",
    "plt.xscale('log')\n",
    "plt.yscale('log')\n",
    "plt.grid()\n",
    "plt.plot(t30, s30, '.', color = 'blue', label='s - {:.1f} m'.format(r)) # \n",
    "plt.plot(t30,theis(t30,best_vals[0],best_vals[1]), color ='red',label='solution de Theis' )\n",
    "plt.legend()\n",
    "plt.show()\n",
    "\n",
    "T30 = best_vals[0]\n",
    "S30 = best_vals[1]\n",
    "print('Resultats ajustement:')\n",
    "print('T = {:.1e} m2/min'.format(T30))\n",
    "print('S = {:.1e} (-)'.format(S30))\n",
    "\n",
    "print('A comparer avec les valeurs trouvées in Kruseman and de Ridder: T=392 m2/jour et S = 1.6 x 10-4')"
   ]
  },
  {
   "cell_type": "code",
   "execution_count": 33,
   "metadata": {},
   "outputs": [
    {
     "data": {
      "image/png": "[encoded data removed]",
      "text/plain": [
       "<Figure size 432x288 with 1 Axes>"
      ]
     },
     "metadata": {
      "needs_background": "light"
     },
     "output_type": "display_data"
    },
    {
     "name": "stdout",
     "output_type": "stream",
     "text": [
      "Resultats ajustement:\n",
      "T = 3.5e-01 m2/min\n",
      "S = 2.0e-04 (-)\n"
     ]
    }
   ],
   "source": [
    "# interpretation au piezometre r = 90m\n",
    "import numpy as np\n",
    "import scipy.special as sp\n",
    "import matplotlib.pyplot as plt\n",
    "from scipy.optimize import curve_fit\n",
    "\n",
    "#lecture fichier local\n",
    "data = np.genfromtxt('Korendijk_data.csv',delimiter=',')\n",
    "\n",
    "#lecture fichier Github pour Colabotary on line\n",
    "#data = np.genfromtxt('https://raw.githubusercontent.com/larroque852/NB_ENS2_theis_jacob/main/Korendijk_data.csv',delimiter=',')\n",
    "\n",
    "#conditions de l'essai\n",
    "Q = 788/24/60 # débit (m3/min )\n",
    "\n",
    "# définition du modèle de Theis\n",
    "def theis(t, T, S):\n",
    "    sT = Q / (4 * np.pi * T) * sp.exp1(( r ** 2 * S)/(4 * T * t))\n",
    "    return sT\n",
    "\n",
    "r = 90 # distance piézomètre/puits (m)\n",
    "I = data[:, 0] == r # creation d'un index\n",
    "t90 = data[I,2] # [min]\n",
    "s90 = data[I,3]\n",
    "\n",
    "best_vals, covar= curve_fit(theis, t90, s90)\n",
    "\n",
    "# parametrage figure\n",
    "plt.title('Essai de nappe - Piézomètre')\n",
    "plt.xlabel('Temps (jour)')\n",
    "plt.ylabel('Rabattement (m)')\n",
    "plt.xscale('log')\n",
    "plt.yscale('log')\n",
    "plt.grid()\n",
    "plt.plot(t90, s90, '.', color = 'blue', label='s - {:.1f} m'.format(r)) # \n",
    "plt.plot(t90,theis(t90,best_vals[0],best_vals[1]), color ='red',label='solution de Theis' )\n",
    "plt.legend()\n",
    "plt.show()\n",
    "\n",
    "T90 = best_vals[0]\n",
    "S90 = best_vals[1]\n",
    "print('Resultats ajustement:')\n",
    "print('T = {:.1e} m2/min'.format(T90))\n",
    "print('S = {:.1e} (-)'.format(S90))"
   ]
  },
  {
   "cell_type": "code",
   "execution_count": 6,
   "metadata": {},
   "outputs": [
    {
     "data": {
      "image/png": "[encoded data removed]",
      "text/plain": [
       "<Figure size 432x288 with 1 Axes>"
      ]
     },
     "metadata": {
      "needs_background": "light"
     },
     "output_type": "display_data"
    },
    {
     "name": "stdout",
     "output_type": "stream",
     "text": [
      "Resultats ajustement:\n",
      "T = 6.6e-01 m2/min\n",
      "S = 5.5e-04 (-)\n"
     ]
    }
   ],
   "source": [
    "# interpretation au piezometre r = 215m\n",
    "import numpy as np\n",
    "import scipy.special as sp\n",
    "import matplotlib.pyplot as plt\n",
    "from scipy.optimize import curve_fit\n",
    "\n",
    "#lecture fichier local\n",
    "data = np.genfromtxt('Korendijk_data.csv',delimiter=',')\n",
    "\n",
    "#lecture fichier Github pour Colabotary on line\n",
    "#data = np.genfromtxt('https://raw.githubusercontent.com/larroque852/NB_ENS2_theis_jacob/main/Korendijk_data.csv',delimiter=',')\n",
    "\n",
    "#conditions de l'essai\n",
    "Q = 788/24/60 # débit (m3/min )\n",
    "\n",
    "# définition du modèle de Theis\n",
    "def theis(t, T, S):\n",
    "    sT = Q / (4 * np.pi * T) * sp.exp1(( r ** 2 * S)/(4 * T * t))\n",
    "    return sT\n",
    "\n",
    "r = 215 # distance piézomètre/puits (m)\n",
    "I = data[:, 0] == r # creation d'un index\n",
    "t215 = data[I,2] # [min]\n",
    "s215 = data[I,3]\n",
    "\n",
    "\n",
    "#best_vals, covar= curve_fit(theis, t215, s215)\n",
    "#utilisation de valeurs initiales pour l'ajustement du modele\n",
    "best_vals, covar= curve_fit(theis, t215, s215,[1e-2,1e-4])\n",
    "\n",
    "# parametrage figure\n",
    "plt.title('Essai de nappe - Piézomètre')\n",
    "plt.xlabel('Temps (jour)')\n",
    "plt.ylabel('Rabattement (m)')\n",
    "plt.xscale('log')\n",
    "plt.yscale('log')\n",
    "plt.grid()\n",
    "plt.plot(t215, s215, '.', color = 'blue', label='s - {:.1f} m'.format(r)) # \n",
    "plt.plot(t215,theis(t215,best_vals[0],best_vals[1]), color ='red',label='solution de Theis' )\n",
    "plt.legend()\n",
    "plt.show()\n",
    "\n",
    "T215 = best_vals[0]\n",
    "S215 = best_vals[1]\n",
    "print('Resultats ajustement:')\n",
    "print('T = {:.1e} m2/min'.format(T215))\n",
    "print('S = {:.1e} (-)'.format(S215))\n"
   ]
  },
  {
   "cell_type": "markdown",
   "metadata": {},
   "source": [
    "## Bibliographie\n",
    "\n",
    "Kruseman, G.P. & N.D. de Ridder (1994) Pumping test analysis. Disponible sur Internet."
   ]
  }
 ],
 "metadata": {
  "kernelspec": {
   "display_name": "Python 3",
   "language": "python",
   "name": "python3"
  },
  "language_info": {
   "codemirror_mode": {
    "name": "ipython",
    "version": 3
   },
   "file_extension": ".py",
   "mimetype": "text/x-python",
   "name": "python",
   "nbconvert_exporter": "python",
   "pygments_lexer": "ipython3",
   "version": "3.8.3"
  }
 },
 "nbformat": 4,
 "nbformat_minor": 4
}
