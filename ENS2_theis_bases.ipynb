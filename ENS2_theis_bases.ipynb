{
 "cells": [
  {
   "cell_type": "markdown",
   "metadata": {},
   "source": [
    "# ESSAIS DE NAPPE - ETUDE DE LA FONCTION DE THEIS\n",
    "\n",
    "# Solutions applicables en nappe captive d'extension infinie"
   ]
  },
  {
   "cell_type": "markdown",
   "metadata": {},
   "source": [
    "## Equation de diffusivité\n",
    "\n",
    "$$\\frac{\\partial^2 h}{\\partial r^2} + \\frac{1}{r}\\frac{\\partial h}{\\partial r} = \\frac{S}{Kb} \\times \\frac{\\partial h}{\\partial t}$$\n",
    "\n",
    "## Solution de Theis \n",
    "\n",
    "### Hypothèses:\n",
    "- Aquifère reposant sur un couche imperméable\n",
    "- Formations géologiques homogènes, isotropes, horizontales et d'extension horizontale infinie\n",
    "- Surface piézométrique initialement horizontale\n",
    "- Loi de Darcy valide\n",
    "- Puits parfait et de diamètre négligeable\n",
    "- Eau provient uniquement de la décompression de l'aquifère\n",
    "\n",
    "### Equation de Theis \n",
    "En réalisation le changement de variable suivant:\n",
    "$$\n",
    "\tu = \\frac{r^2S}{4Kbt}\n",
    "$$\n",
    "\n",
    "La résolution de l'équation de diffusivité pour les hypothèses (conditions limites) précédentes amène la solution de Theis\n",
    "\n",
    "$$\n",
    "    s = \\frac{Q}{4 \\pi T} \\int_{u}^{\\infty} {\\frac{e^{-y}}{y}} \\mathrm{d}y\n",
    "$$\n",
    "\n",
    "### Fonction de Theis\n",
    "Cette résolution introduit la fonction de Theis  $W(u)$ définie par analogie à l'équation précédente:\n",
    "\n",
    "$$\n",
    "\tW(u) = \\int_{u}^{\\infty} {\\frac{e^{-y}}{y}} \\mathrm{d}y\n",
    "$$\n",
    "\n",
    "Cette fonction peut être rapprochée de la fonction Exponentielle Intégrale $E_i$ connue en mathématiques:\n",
    "\n",
    "$$\n",
    "\tE_i = \\int_{-\\infty}^{u} {\\frac{e^{y}}{y}} \\mathrm{d}y\n",
    "$$\n",
    "Une fonction alternative $E_1$ peut être définie, de la même famille que la fonction exponentielle intégrale $E_i$ telle que:\n",
    "\n",
    "$$\n",
    "    E_1(x) = -E_i(-x) = \\int_{x}^{\\infty} {\\frac{e^{-y}}{y}} \\mathrm{d}y = W(u)\n",
    "$$\n"
   ]
  },
  {
   "cell_type": "markdown",
   "metadata": {},
   "source": [
    "### Calcul de W(u) à partir des fonctionnalités de Python\n",
    "\n",
    "La fonction exponetielle intégrale est implémentée dans la bibliothèque \"Scipy.Special\" sous la forme \"exp1\".\n",
    "On peut directement calculer la valeur $W(u$) telle que:\n",
    "$$\n",
    "    W(u) = \\int_{u}^{\\infty} {\\frac{e^{-y}}{y}} \\mathrm{d}y = exp1(u)\n",
    "$$  "
   ]
  },
  {
   "cell_type": "code",
   "execution_count": 2,
   "metadata": {},
   "outputs": [
    {
     "name": "stdout",
     "output_type": "stream",
     "text": [
      "exp1(u)    = 2.0269410025857417 , module scipy.special\n"
     ]
    }
   ],
   "source": [
    "#chargement des packages necessaires\n",
    "import numpy as np\n",
    "import scipy.special as sp\n",
    "import matplotlib.pyplot as plt\n",
    "\n",
    "\n",
    "u = 0.08  # choisir une valeur de u\n",
    "print('exp1(u)    =', sp.exp1(u),', module scipy.special')"
   ]
  },
  {
   "cell_type": "markdown",
   "metadata": {},
   "source": [
    "### Calcul de W(u) à partir d'une intégration numérique\n",
    "\n",
    "Comme toute fonction mathématique continue et dérivable, la fonction de Theis peut faire l'objet d'une intégration numérique afin d'estimer la valeur de $W(u)$ pour toute valeur de borne particulière $u$.\n",
    "\n",
    "Afin de réaliser cette intégration, il est nécessaire de réécrire la forme continue de la fonction de Theis à l'aide d'une formulation discontinue:\n",
    "$$\n",
    "    W(u) = \\intop_u^{-\\infty} \\frac {e^{-y}} y dy \\approx \\sum_0^N \\frac {e^{-y_i}} {y_i} \\Delta y_i\n",
    "$$\n",
    "\n",
    "où $y_0 = u_0$ et $N$ est un entier suffisamment grand.\n",
    "\n",
    "Le package numpy permet de réaliser simplement une intégration numérique, en définissant préalablement la fonction à intégrer comme une fonction Python."
   ]
  },
  {
   "cell_type": "code",
   "execution_count": 4,
   "metadata": {},
   "outputs": [
    {
     "name": "stdout",
     "output_type": "stream",
     "text": [
      "Wint(u)    = 2.0269702874381887 , obtenu par intégration numérique\n"
     ]
    }
   ],
   "source": [
    "import numpy as np\n",
    "import scipy.special as sp\n",
    "import matplotlib.pyplot as plt\n",
    "\n",
    "\n",
    "def Wint(u):\n",
    "    '''Renvoie la valeur de la fonction de Theis obtenue par intégration numérique'''\n",
    "    LOG10INF = 2 # sufficient as exp(-100) is in the order of 1e-50\n",
    "    y = np.logspace(np.log10(u), LOG10INF, num=1000)\n",
    "    arg = np.exp(-y) / y\n",
    "    dy = np.diff(y)\n",
    "    w = np.sum(0.5 * (arg[:-1] + arg[1:]) * dy)\n",
    "    return w\n",
    "\n",
    "u = 0.08  # choisir une valeur de u\n",
    "print('Wint(u)    =', Wint(u),', obtenu par intégration numérique')"
   ]
  },
  {
   "cell_type": "markdown",
   "metadata": {},
   "source": [
    "### Représentation graphique et courbe de Theis\n",
    "\n",
    "La courbe de Theis correspond à une abaque exprimant $W(u)$ pour différentes valeurs de $u$. Cette courbe permet d'éviter à avoir à calculer la fonction intégrale. Cette courbe était très utilisée en hydrogéologie lorsque les outils de calculs étaient moins accessibles qu'aujourd'hui.\n",
    "\n",
    "On utilise deux modes de représentation: $W(u) = f(u)$ et $W(u) = f(1/u)$\n",
    "\n",
    "La représentation $W(u) = f(1/u)$ est souvent préférée car elle permet une comparaison directe avec les mesures réalisées sur le terrain lors des essais de nappe."
   ]
  },
  {
   "cell_type": "code",
   "execution_count": 11,
   "metadata": {},
   "outputs": [
    {
     "data": {
      "image/png": "[encoded data removed]",
      "text/plain": [
       "<Figure size 432x288 with 1 Axes>"
      ]
     },
     "metadata": {
      "needs_background": "light"
     },
     "output_type": "display_data"
    },
    {
     "data": {
      "image/png": "[encoded data removed]",
      "text/plain": [
       "<Figure size 432x288 with 1 Axes>"
      ]
     },
     "metadata": {
      "needs_background": "light"
     },
     "output_type": "display_data"
    }
   ],
   "source": [
    "import numpy as np\n",
    "import scipy.special as sp\n",
    "import matplotlib.pyplot as plt\n",
    "\n",
    "# calcul de u avec echantillonnage log10\n",
    "u = np.logspace(-5, 1, 61)\n",
    "\n",
    "# paramétrage de la figure W(u) = f(1/u)\n",
    "plt.title('Courbe type de Theis versus 1/u')\n",
    "plt.xlabel('1/u')\n",
    "plt.ylabel('W(u)')\n",
    "plt.xscale('log')\n",
    "plt.yscale('log')\n",
    "plt.grid()\n",
    "\n",
    "plt.plot(1/u, sp.exp1(u)) # plot fonction de Theis versus 1/u\n",
    "plt.show()\n",
    "\n",
    "# paramétrage de la figure W(u) = f(u)\n",
    "plt.title('Courbe type de Theis versus u')\n",
    "plt.xlabel('u')\n",
    "plt.ylabel('W(u)')\n",
    "plt.xscale('log')\n",
    "plt.yscale('log')\n",
    "plt.grid()\n",
    "\n",
    "plt.plot(u, sp.exp1(u)) # plot fonction de Theis versus u\n",
    "plt.show()"
   ]
  },
  {
   "cell_type": "markdown",
   "metadata": {},
   "source": [
    "### Expression de la fonction de Theis à partir d'un développement en série de Taylor\n",
    "\n",
    "La fonction de Theis peut également être exprimée selon un développement en série de Taylor. On obtient une formulation en série infinie de puissance:\n",
    "\n",
    "$$\n",
    "    W(u) = -\\gamma - ln(u) - \\sum_{n=1}^{\\infty} {\\frac{(-1)^n u^n}{n(n)!}}\n",
    "$$\n",
    "\n",
    "soit sous la forme développée\n",
    "\n",
    "$$\n",
    "    W(u) = -\\gamma - ln(u) + u -\\frac{u^2}{2.2!} + \\frac{u^3}{3.3!} - \\frac{u^4}{4.4!} + - \\frac{u^5}{5.5!} - \\cdots\n",
    "$$\n",
    "\n",
    "avec $\\gamma = 0.5773$ (nombre d'Euler).\n",
    "\n",
    "Cette expression corresponds à une série infinie convergente. $W(u)$ peut être approché en tronquant la série infinie après un nombre de terme suffisant\n",
    "\n",
    "Par exemple, en tronquant la série au 4ème terme:\n",
    "$$\n",
    "    W(u) = -\\gamma - ln(u) + u -\\frac{u^2}{2.2!} + \\frac{u^3}{3.3!} - \\frac{u^4}{4.4!}\n",
    "$$\n"
   ]
  },
  {
   "cell_type": "code",
   "execution_count": 9,
   "metadata": {},
   "outputs": [
    {
     "name": "stdout",
     "output_type": "stream",
     "text": [
      "     u  /  W(u) série tronquée  / W(u) Theis\n",
      "4.000e+00 -1.075e+00 3.779e-03\n",
      "4.000e-01 7.024e-01 7.024e-01\n",
      "4.000e-02 2.681e+00 2.681e+00\n",
      "4.000e-03 4.948e+00 4.948e+00\n",
      "4.000e-04 7.247e+00 7.247e+00\n",
      "4.000e-05 9.549e+00 9.549e+00\n",
      "4.000e-06 1.185e+01 1.185e+01\n",
      "4.000e-07 1.415e+01 1.415e+01\n",
      "4.000e-08 1.646e+01 1.646e+01\n",
      "4.000e-09 1.876e+01 1.876e+01\n",
      "4.000e-10 2.106e+01 2.106e+01\n"
     ]
    }
   ],
   "source": [
    "import numpy as np\n",
    "import scipy.special as sp\n",
    "import matplotlib.pyplot as plt\n",
    "\n",
    "U = 4.0 * 10** -np.arange(11.)   # generates values 4, 4e-1, 4e-2 .. 4e-10\n",
    "print(\"{:>10s} {:>10s} {:>10s}\".format('u  / ', 'W(u) série tronquée  /', 'W(u) Theis'))\n",
    "for u in U:\n",
    "    W = sp.exp1(u)\n",
    "    w = -0.5772 -np.log(u) + u - ((u)**2)/(2*sp.factorial(2)) + ((u)**3)/(3*sp.factorial(3))- ((u)**4)/(4*sp.factorial(4))\n",
    "    print(\"{:.3e} {:.3e} {:.3e}\".format(u, w, W))"
   ]
  },
  {
   "cell_type": "markdown",
   "metadata": {},
   "source": [
    "#### Sensibilité de la troncature du développement en série de Taylor\n",
    "Lors de l'approximation de la solution de Theis, l'exactitude du résultat va être fonction de l'ordre retenu pour la troncature du développement de la série de Taylor."
   ]
  },
  {
   "cell_type": "code",
   "execution_count": 13,
   "metadata": {},
   "outputs": [
    {
     "data": {
      "image/png": "[encoded data removed]",
      "text/plain": [
       "<Figure size 432x288 with 1 Axes>"
      ]
     },
     "metadata": {
      "needs_background": "light"
     },
     "output_type": "display_data"
    }
   ],
   "source": [
    "import numpy as np\n",
    "import scipy.special as sp\n",
    "import matplotlib.pyplot as plt\n",
    "\n",
    "u = np.logspace(-2, 1, 61)\n",
    "W = sp.exp1(u)\n",
    "w4 = -0.5772 -np.log(u) + u - ((u)**2)/(2*sp.factorial(2)) + ((u)**3)/(3*sp.factorial(3))- ((u)**4)/(4*sp.factorial(4))\n",
    "w3 = -0.5772 -np.log(u) + u - ((u)**2)/(2*sp.factorial(2)) + ((u)**3)/(3*sp.factorial(3))\n",
    "w2 = -0.5772 -np.log(u) + u - ((u)**2)/(2*sp.factorial(2))\n",
    "w1 = -0.5772 -np.log(u) + u\n",
    "\n",
    "import matplotlib.pylab as plt\n",
    "\n",
    "fig1= plt.figure()\n",
    "ax1 = fig1.add_subplot(111)\n",
    "ax1.set(xlabel='1/u', ylabel='W(u)', title='Sensibilité de la troncature - Taylor', xscale='log')\n",
    "ax1.grid(True)\n",
    "ax1.plot(u, W, 'b', label='W(u)')\n",
    "#ax1.plot(u, W1(u), 'rx', label='integal') # works only for scalars\n",
    "ax1.plot(u, w1, 'g+--', label='ordre 1')\n",
    "ax1.plot(u, w2, 'r+--', label='ordre 2')\n",
    "ax1.plot(u, w3, 'k+--', label='ordre 3')\n",
    "ax1.plot(u, w4, 'm+--', label='ordre 4')\n",
    "ax1.legend(loc='best')\n",
    "\n",
    "plt.show()"
   ]
  },
  {
   "cell_type": "code",
   "execution_count": 14,
   "metadata": {},
   "outputs": [
    {
     "data": {
      "image/png": "[encoded data removed]",
      "text/plain": [
       "<Figure size 432x288 with 1 Axes>"
      ]
     },
     "metadata": {
      "needs_background": "light"
     },
     "output_type": "display_data"
    }
   ],
   "source": [
    "#programmation alternative (et plus intelligente !) faisant appel à des fonctionnalités de boucle pour optimiser la création d'un graphique avec plusieurs séries\n",
    "import numpy as np\n",
    "import scipy.special as sp\n",
    "import matplotlib.pyplot as plt\n",
    "\n",
    "u = np.logspace(0, 1, 61)\n",
    "W = sp.exp1(u)\n",
    "w4 = -0.5772 -np.log(u) + u - ((u)**2)/(2*sp.factorial(2)) + ((u)**3)/(3*sp.factorial(3))- ((u)**4)/(4*sp.factorial(4))\n",
    "w3 = -0.5772 -np.log(u) + u - ((u)**2)/(2*sp.factorial(2)) + ((u)**3)/(3*sp.factorial(3))\n",
    "w2 = -0.5772 -np.log(u) + u - ((u)**2)/(2*sp.factorial(2))\n",
    "w1 = -0.5772 -np.log(u) + u\n",
    "\n",
    "taylor = (W,w1,w2,w3,w4)\n",
    "\n",
    "I=np.arange(1,len(taylor))\n",
    "\n",
    "fig1= plt.figure()\n",
    "ax1 = fig1.add_subplot(111)\n",
    "ax1.set(xlabel= 'u', ylabel='W(u)', title='Sensibilité de la troncature - Taylor', xscale='log')\n",
    "ax1.grid(True)\n",
    "ax1.plot(u, taylor[0], 'b', label='W(u)')\n",
    "for i in I:\n",
    "    ax1.plot(u, taylor[i], label='Ordre %s' % i)\n",
    "ax1.legend(loc='best')\n",
    "\n",
    "plt.show()"
   ]
  },
  {
   "cell_type": "markdown",
   "metadata": {},
   "source": [
    "La précision de l'approximation de la fonction de Theis par le développement en série de Taylor est donc liée à l'ordre de la troncature. On peut illustrer cette observation en introduisant le calcul d'un écart normalisé entre la fonction de Theis et la troncature de Taylor:\n",
    "\n",
    "$$\n",
    "\\Delta = 1 - \\frac{W_{taylor}}{W(u)}\n",
    "$$"
   ]
  },
  {
   "cell_type": "code",
   "execution_count": 15,
   "metadata": {},
   "outputs": [
    {
     "name": "stdout",
     "output_type": "stream",
     "text": [
      "           u          W(u)          W4(u)   1-W4(u)/W(u)          W1(u)   1-W1(u)/W(u)\n",
      "        0.01          4.04          4.04         -0.0%          4.04         -0.0%\n",
      "      0.0126          3.81          3.81         -0.0%          3.81         -0.0%\n",
      "      0.0158          3.58          3.58         -0.0%          3.58         -0.0%\n",
      "        0.02          3.36          3.36         -0.0%          3.36         -0.0%\n",
      "      0.0251          3.13          3.13         -0.0%          3.13         -0.0%\n",
      "      0.0316          2.91          2.91         -0.0%          2.91         -0.0%\n",
      "      0.0398          2.69          2.69         -0.0%          2.69         -0.0%\n",
      "      0.0501          2.47          2.47         -0.0%          2.47         -0.0%\n",
      "      0.0631          2.25          2.25         -0.0%          2.25         -0.0%\n",
      "      0.0794          2.03          2.03         -0.0%          2.04         -0.1%\n",
      "         0.1          1.82          1.82         -0.0%          1.83         -0.1%\n",
      "       0.126          1.62          1.62         -0.0%          1.62         -0.2%\n",
      "       0.158          1.42          1.42         -0.0%          1.42         -0.4%\n",
      "         0.2          1.22          1.22         -0.0%          1.23         -0.8%\n",
      "       0.251          1.04          1.04         -0.0%          1.06         -1.4%\n",
      "       0.316         0.867         0.867         -0.0%          0.89         -2.7%\n",
      "       0.398         0.706         0.706          0.0%         0.742         -5.2%\n",
      "       0.501         0.558         0.558          0.0%         0.615        -10.1%\n",
      "       0.631         0.427         0.427          0.0%         0.514        -20.4%\n",
      "       0.794         0.314         0.313          0.1%         0.447        -42.6%\n",
      "           1         0.219         0.218          0.7%         0.423        -92.7%\n"
     ]
    }
   ],
   "source": [
    "import numpy as np\n",
    "import scipy.special as sp\n",
    "import matplotlib.pyplot as plt\n",
    "\n",
    "U = np.logspace(-2, 0, 21)\n",
    "W = lambda u : sp.exp1(u)\n",
    "w4 = lambda u : -0.5772 -np.log(u) + u - ((u)**2)/(2*sp.factorial(2)) + ((u)**3)/(3*sp.factorial(3))- ((u)**4)/(4*sp.factorial(4))\n",
    "w1 = lambda u : -0.5772 -np.log(u) + u\n",
    "\n",
    "print(\"{:>12s}  {:>12s}   {:>12s}   {:>12s}   {:>12s}   {:>12s}\".format('u','W(u)','W4(u)','1-W4(u)/W(u)','W1(u)','1-W1(u)/W(u)'))\n",
    "for u in U:\n",
    "    print(\"{:12.3g}  {:12.3g}  {:12.3g}  {:12.1%}  {:12.3g}  {:12.1%}\".format(u, W(u), w4(u), 1-w4(u)/W(u), w1(u), 1-w1(u)/W(u)))"
   ]
  },
  {
   "cell_type": "code",
   "execution_count": null,
   "metadata": {},
   "outputs": [],
   "source": []
  }
 ],
 "metadata": {
  "kernelspec": {
   "display_name": "Python 3",
   "language": "python",
   "name": "python3"
  },
  "language_info": {
   "codemirror_mode": {
    "name": "ipython",
    "version": 3
   },
   "file_extension": ".py",
   "mimetype": "text/x-python",
   "name": "python",
   "nbconvert_exporter": "python",
   "pygments_lexer": "ipython3",
   "version": "3.8.3"
  }
 },
 "nbformat": 4,
 "nbformat_minor": 4
}
